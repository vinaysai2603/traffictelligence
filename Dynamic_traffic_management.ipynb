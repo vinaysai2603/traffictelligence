{
 "cells": [
  {
   "cell_type": "markdown",
   "id": "ab2d8c79-e97d-4a26-bcbb-863c81936915",
   "metadata": {},
   "source": [
    "# Importing libraries\n"
   ]
  },
  {
   "cell_type": "code",
   "execution_count": 15,
   "id": "cc5938a5-8f88-4864-9a7f-d0fa150ef1fd",
   "metadata": {},
   "outputs": [
    {
     "name": "stdout",
     "output_type": "stream",
     "text": [
      "  holiday    temp  rain_1h  snow_1h  clouds_all weather_main  \\\n",
      "0     NaN  288.28      0.0      0.0          40       Clouds   \n",
      "1     NaN  289.36      0.0      0.0          75       Clouds   \n",
      "2     NaN  289.58      0.0      0.0          90       Clouds   \n",
      "3     NaN  290.13      0.0      0.0          90       Clouds   \n",
      "4     NaN  291.14      0.0      0.0          75       Clouds   \n",
      "\n",
      "  weather_description            date_time  traffic_volume  \n",
      "0    scattered clouds  2012-10-02 09:00:00            5545  \n",
      "1       broken clouds  2012-10-02 10:00:00            4516  \n",
      "2     overcast clouds  2012-10-02 11:00:00            4767  \n",
      "3     overcast clouds  2012-10-02 12:00:00            5026  \n",
      "4       broken clouds  2012-10-02 13:00:00            4918  \n",
      "<class 'pandas.core.frame.DataFrame'>\n",
      "RangeIndex: 48204 entries, 0 to 48203\n",
      "Data columns (total 9 columns):\n",
      " #   Column               Non-Null Count  Dtype  \n",
      "---  ------               --------------  -----  \n",
      " 0   holiday              61 non-null     object \n",
      " 1   temp                 48204 non-null  float64\n",
      " 2   rain_1h              48204 non-null  float64\n",
      " 3   snow_1h              48204 non-null  float64\n",
      " 4   clouds_all           48204 non-null  int64  \n",
      " 5   weather_main         48204 non-null  object \n",
      " 6   weather_description  48204 non-null  object \n",
      " 7   date_time            48204 non-null  object \n",
      " 8   traffic_volume       48204 non-null  int64  \n",
      "dtypes: float64(3), int64(2), object(4)\n",
      "memory usage: 3.3+ MB\n",
      "None\n"
     ]
    }
   ],
   "source": [
    "import pandas as pd\n",
    "import numpy as np\n",
    "import matplotlib.pyplot as plt\n",
    "import seaborn as sns\n",
    "from sklearn.model_selection import train_test_split\n",
    "from sklearn.ensemble import RandomForestRegressor\n",
    "from sklearn.metrics import mean_absolute_error, mean_squared_error, r2_score\n",
    "import joblib\n",
    "df = pd.read_csv(\"traffic_data.csv\")  # Replace with your dataset\n",
    "print(df.head())\n",
    "print(df.info())\n"
   ]
  },
  {
   "cell_type": "markdown",
   "id": "1b66d973-b13c-47ca-996e-b58a8b36928c",
   "metadata": {},
   "source": [
    "# Feature Engineering \n"
   ]
  },
  {
   "cell_type": "code",
   "execution_count": 5,
   "id": "58ef84e9-4bea-403c-a6d1-2dcbd57a2a28",
   "metadata": {},
   "outputs": [],
   "source": [
    "df['date_time'] = pd.to_datetime(df['date_time'])\n",
    "df['hour'] = df['date_time'].dt.hour\n",
    "df['day'] = df['date_time'].dt.day\n",
    "df['month'] = df['date_time'].dt.month\n",
    "df['day_of_week'] = df['date_time'].dt.dayofweek\n",
    "df['is_weekend'] = df['day_of_week'].isin([5, 6]).astype(int)\n",
    "df = df.drop(['date_time'], axis=1)\n"
   ]
  },
  {
   "cell_type": "code",
   "execution_count": 4,
   "id": "df59ff1e-6f9f-4e8d-80db-1c1778b48584",
   "metadata": {},
   "outputs": [
    {
     "name": "stdout",
     "output_type": "stream",
     "text": [
      "Index(['holiday', 'temp', 'rain_1h', 'snow_1h', 'clouds_all', 'weather_main',\n",
      "       'weather_description', 'date_time', 'traffic_volume'],\n",
      "      dtype='object')\n"
     ]
    }
   ],
   "source": [
    "print(df.columns)\n"
   ]
  },
  {
   "cell_type": "markdown",
   "id": "472d38f2-bf57-4362-ae2d-a3e47d8d794a",
   "metadata": {},
   "source": [
    "# prepare data for training"
   ]
  },
  {
   "cell_type": "code",
   "execution_count": 6,
   "id": "beeee264-839b-49bd-9513-126ef963065b",
   "metadata": {},
   "outputs": [],
   "source": [
    "from sklearn.model_selection import train_test_split\n",
    "y = df['traffic_volume']\n",
    "X = df.drop('traffic_volume', axis=1))\n",
    "X = pd.get_dummies(X, drop_first=True)\n",
    "X_train, X_test, y_train, y_test = train_test_split(X, y, test_size=0.2, random_state=42)\n"
   ]
  },
  {
   "cell_type": "markdown",
   "id": "f431774b-eb2f-4c9c-abd9-2d2f98c1fa4a",
   "metadata": {},
   "source": [
    "# Train machine learning model"
   ]
  },
  {
   "cell_type": "code",
   "execution_count": 7,
   "id": "4d058796-8df6-43f1-94a9-85a2d27e544b",
   "metadata": {},
   "outputs": [
    {
     "data": {
      "text/plain": [
       "['traffic_model.pkl']"
      ]
     },
     "execution_count": 7,
     "metadata": {},
     "output_type": "execute_result"
    }
   ],
   "source": [
    "from sklearn.ensemble import RandomForestRegressor\n",
    "import joblib\n",
    "model = RandomForestRegressor(n_estimators=100, random_state=42)\n",
    "model.fit(X_train, y_train)\n",
    "joblib.dump(model, \"traffic_model.pkl\")\n"
   ]
  },
  {
   "cell_type": "markdown",
   "id": "7fdeecbb-c286-4a8d-b1d9-b1e5e7caad63",
   "metadata": {},
   "source": [
    "# Evaluate the model"
   ]
  },
  {
   "cell_type": "code",
   "execution_count": 8,
   "id": "f7a2a3b7-3c0a-432d-86c6-851fa18f88e7",
   "metadata": {},
   "outputs": [
    {
     "name": "stdout",
     "output_type": "stream",
     "text": [
      "MAE: 220.84919302976868\n",
      "RMSE: 391.72127090747983\n",
      "R² Score: 0.9611875482938723\n"
     ]
    }
   ],
   "source": [
    "from sklearn.metrics import mean_absolute_error, mean_squared_error, r2_score\n",
    "import numpy as np\n",
    "y_pred = model.predict(X_test)\n",
    "print(\"MAE:\", mean_absolute_error(y_test, y_pred))\n",
    "print(\"RMSE:\", np.sqrt(mean_squared_error(y_test, y_pred)))\n",
    "print(\"R² Score:\", r2_score(y_test, y_pred))\n"
   ]
  },
  {
   "cell_type": "markdown",
   "id": "4a2ad8c6-a6d0-4c3e-a504-2f78df159581",
   "metadata": {},
   "source": [
    "# Real-time simulation"
   ]
  },
  {
   "cell_type": "code",
   "execution_count": 10,
   "id": "0e6bf3a4-2810-40e5-8667-1e846bf2cf30",
   "metadata": {},
   "outputs": [
    {
     "data": {
      "text/plain": [
       "['feature_columns.pkl']"
      ]
     },
     "execution_count": 10,
     "metadata": {},
     "output_type": "execute_result"
    }
   ],
   "source": [
    "\n",
    "import joblib\n",
    "\n",
    "joblib.dump(X_train.columns.tolist(), \"feature_columns.pkl\")\n"
   ]
  },
  {
   "cell_type": "markdown",
   "id": "642f10eb-b63d-46b8-9cf0-89570851d4a2",
   "metadata": {},
   "source": [
    "# Prediction simulation"
   ]
  },
  {
   "cell_type": "code",
   "execution_count": 12,
   "id": "8c8161ea-6c55-4fee-8d26-6a5947bd41a6",
   "metadata": {},
   "outputs": [
    {
     "name": "stdout",
     "output_type": "stream",
     "text": [
      "✅ Predicted Traffic Volume: 1952\n"
     ]
    }
   ],
   "source": [
    "import joblib\n",
    "import pandas as pd\n",
    "import numpy as np\n",
    "model = joblib.load(\"traffic_model.pkl\")\n",
    "feature_cols = joblib.load(\"feature_columns.pkl\")\n",
    "input_df = pd.DataFrame(columns=feature_cols)\n",
    "input_df.loc[0] = [0] * len(feature_cols)\n",
    "input_values = {\n",
    "    'temp': 290.1,\n",
    "    'rain_1h': 0.0,\n",
    "    'snow_1h': 0.0,\n",
    "    'clouds_all': 20,\n",
    "    'hour': 8,\n",
    "    'day': 30,\n",
    "    'month': 6,\n",
    "    'day_of_week': 6,\n",
    "    'is_weekend': 1,\n",
    "    'holiday_Independence Day': 1,\n",
    "    'weather_main_Clear': 1,\n",
    "}\n",
    "for key, value in input_values.items():\n",
    "    if key in input_df.columns:\n",
    "        input_df.at[0, key] = input_df[key].dtype.type(value)\n",
    "pred = model.predict(input_df)\n",
    "print(\"✅ Predicted Traffic Volume:\", int(pred[0]))\n"
   ]
  },
  {
   "cell_type": "code",
   "execution_count": null,
   "id": "220f8535-a005-4c96-b90b-dec6901d4e08",
   "metadata": {},
   "outputs": [],
   "source": []
  }
 ],
 "metadata": {
  "kernelspec": {
   "display_name": "Python 3 (ipykernel)",
   "language": "python",
   "name": "python3"
  },
  "language_info": {
   "codemirror_mode": {
    "name": "ipython",
    "version": 3
   },
   "file_extension": ".py",
   "mimetype": "text/x-python",
   "name": "python",
   "nbconvert_exporter": "python",
   "pygments_lexer": "ipython3",
   "version": "3.12.4"
  }
 },
 "nbformat": 4,
 "nbformat_minor": 5
}
