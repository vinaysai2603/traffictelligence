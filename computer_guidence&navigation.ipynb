{
 "cells": [
  {
   "cell_type": "code",
   "execution_count": 1,
   "id": "074ccc1d-1ff2-4d5f-ba2b-fda5d5875837",
   "metadata": {},
   "outputs": [
    {
     "name": "stdout",
     "output_type": "stream",
     "text": [
      "Requirement already satisfied: networkx in c:\\users\\user\\.ipythonku\\lib\\site-packages (3.2.1)\n",
      "Note: you may need to restart the kernel to use updated packages.\n"
     ]
    }
   ],
   "source": [
    "pip install networkx\n"
   ]
  },
  {
   "cell_type": "code",
   "execution_count": 5,
   "id": "1068f199-a1a8-4c96-8190-c75696d6e6c7",
   "metadata": {},
   "outputs": [
    {
     "name": "stdout",
     "output_type": "stream",
     "text": [
      "Suggested route: ['A', 'B', 'D']\n",
      "Estimated travel time: 44.79 minutes\n"
     ]
    }
   ],
   "source": [
    "import networkx as nx\n",
    "G = nx.Graph()\n",
    "G.add_edge('A', 'B', base_time=10)\n",
    "G.add_edge('B', 'C', base_time=15)\n",
    "G.add_edge('A', 'C', base_time=30)\n",
    "G.add_edge('C', 'D', base_time=20)\n",
    "G.add_edge('B', 'D', base_time=25)\n",
    "traffic_volumes = {\n",
    "    ('A', 'B'): 3000,\n",
    "    ('B', 'C'): 5000,\n",
    "    ('A', 'C'): 1000,\n",
    "    ('C', 'D'): 4500,\n",
    "    ('B', 'D'): 3500,\n",
    "}\n",
    "\n",
    "max_volume = 6000  \n",
    "alpha = 0.5        \n",
    "for u, v, data in G.edges(data=True):\n",
    "    volume = traffic_data.get((u, v)) or traffic_data.get((v, u)) or 0\n",
    "    congestion_factor = 1 + alpha * (volume / max_volume)\n",
    "    data['adjusted_time'] = data['base_time'] * congestion_factor\n",
    "    start = 'A'\n",
    "end = 'D'\n",
    "path = nx.shortest_path(G, source=start, target=end, weight='adjusted_time')\n",
    "time = nx.shortest_path_length(G, source=start, target=end, weight='adjusted_time')\n",
    "\n",
    "print(f\"Suggested route: {path}\")\n",
    "print(f\"Estimated travel time: {time:.2f} minutes\")\n",
    "\n",
    "\n"
   ]
  },
  {
   "cell_type": "code",
   "execution_count": 6,
   "id": "b5a8a604-ffe6-4b5f-be6c-dac0dd196834",
   "metadata": {},
   "outputs": [
    {
     "name": "stdout",
     "output_type": "stream",
     "text": [
      "Route: ['A', 'B', 'D'], Estimated time: 44.79 minutes\n"
     ]
    }
   ],
   "source": [
    "def suggest_route(graph, traffic_data, start, end, max_volume=6000, alpha=0.5):\n",
    "    for u, v, data in graph.edges(data=True):\n",
    "        volume = traffic_data.get((u, v)) or traffic_data.get((v, u)) or 0\n",
    "        congestion_factor = 1 + alpha * (volume / max_volume)\n",
    "        data['adjusted_time'] = data['base_time'] * congestion_factor\n",
    "    path = nx.shortest_path(graph, source=start, target=end, weight='adjusted_time')\n",
    "    time = nx.shortest_path_length(graph, source=start, target=end, weight='adjusted_time')\n",
    "    \n",
    "    return path, time\n",
    "route, travel_time = suggest_route(G, traffic_volumes, 'A', 'D')\n",
    "print(f\"Route: {route}, Estimated time: {travel_time:.2f} minutes\")\n"
   ]
  },
  {
   "cell_type": "code",
   "execution_count": 7,
   "id": "4b3fcac2-cc2c-489e-a7a5-be2ae131e9fd",
   "metadata": {},
   "outputs": [
    {
     "name": "stdout",
     "output_type": "stream",
     "text": [
      "Updated Route: ['A', 'B', 'D'], Estimated time: 45.38 minutes\n"
     ]
    }
   ],
   "source": [
    "predicted_traffic = {\n",
    "    ('A', 'B'): 3200,\n",
    "    ('B', 'C'): 4800,\n",
    "    ('A', 'C'): 1100,\n",
    "    ('C', 'D'): 4300,\n",
    "    ('B', 'D'): 3700,\n",
    "}\n",
    "route, travel_time = suggest_route(G, predicted_traffic, 'A', 'D')\n",
    "print(f\"Updated Route: {route}, Estimated time: {travel_time:.2f} minutes\")\n"
   ]
  },
  {
   "cell_type": "code",
   "execution_count": 11,
   "id": "d31c6e52-eb14-4e42-84aa-c4f70614cf2e",
   "metadata": {},
   "outputs": [
    {
     "name": "stdin",
     "output_type": "stream",
     "text": [
      "Enter start location:  A\n",
      "Enter destination:  D\n"
     ]
    },
    {
     "name": "stdout",
     "output_type": "stream",
     "text": [
      "Route: ['A', 'B', 'D'], Estimated time: 45.38 minutes\n"
     ]
    }
   ],
   "source": [
    "def get_valid_node(prompt, valid_nodes):\n",
    "    while True:\n",
    "        node = input(prompt).strip()\n",
    "        if node in valid_nodes:\n",
    "            return node\n",
    "        else:\n",
    "            print(f\"Invalid location! Please enter one of: {', '.join(valid_nodes)}\")\n",
    "\n",
    "valid_nodes = list(G.nodes)\n",
    "\n",
    "start = get_valid_node(\"Enter start location: \", valid_nodes)\n",
    "end = get_valid_node(\"Enter destination: \", valid_nodes)\n",
    "\n",
    "route, travel_time = suggest_route(G, predicted_traffic, start, end)\n",
    "print(f\"Route: {route}, Estimated time: {travel_time:.2f} minutes\")\n"
   ]
  },
  {
   "cell_type": "code",
   "execution_count": 12,
   "id": "42cdd323-dd56-4261-b1cf-322f6c183517",
   "metadata": {},
   "outputs": [
    {
     "name": "stdout",
     "output_type": "stream",
     "text": [
      "Route: ['A', 'B', 'D'], Estimated time: 45.38 minutes\n"
     ]
    }
   ],
   "source": [
    "try:\n",
    "    route, travel_time = suggest_route(G, predicted_traffic, start, end)\n",
    "    print(f\"Route: {route}, Estimated time: {travel_time:.2f} minutes\")\n",
    "except nx.NetworkXNoPath:\n",
    "    print(\"No available path between the given locations.\")\n",
    "except Exception as e:\n",
    "    print(f\"An error occurred: {e}\")\n"
   ]
  },
  {
   "cell_type": "code",
   "execution_count": 13,
   "id": "201f4db7-b53e-446f-8e77-7dc4f71f38dd",
   "metadata": {},
   "outputs": [
    {
     "name": "stdout",
     "output_type": "stream",
     "text": [
      "Option 1: Route: ['A', 'B', 'D'], Estimated Time: 45.38 minutes\n",
      "Option 2: Route: ['A', 'C', 'D'], Estimated Time: 59.92 minutes\n",
      "Option 3: Route: ['A', 'B', 'C', 'D'], Estimated Time: 60.83 minutes\n"
     ]
    }
   ],
   "source": [
    "import networkx as nx\n",
    "\n",
    "def suggest_alternative_routes(graph, traffic_data, start, end, max_volume=6000, alpha=0.5, max_alternatives=3):\n",
    "    # Update adjusted travel times based on traffic volume\n",
    "    for u, v, data in graph.edges(data=True):\n",
    "        volume = traffic_data.get((u, v)) or traffic_data.get((v, u)) or 0\n",
    "        congestion_factor = 1 + alpha * (volume / max_volume)\n",
    "        data['adjusted_time'] = data['base_time'] * congestion_factor\n",
    "\n",
    "    # Generate k-shortest paths (using Yen's algorithm or simple approach)\n",
    "    try:\n",
    "        from networkx.algorithms.simple_paths import shortest_simple_paths\n",
    "    except ImportError:\n",
    "        print(\"NetworkX version may not support shortest_simple_paths\")\n",
    "        return []\n",
    "\n",
    "    # Get generator of simple paths sorted by weight (adjusted_time)\n",
    "    paths_generator = shortest_simple_paths(graph, source=start, target=end, weight='adjusted_time')\n",
    "\n",
    "    alternatives = []\n",
    "    for path in paths_generator:\n",
    "        time = 0\n",
    "        # Calculate total travel time for the path\n",
    "        for i in range(len(path) - 1):\n",
    "            edge_data = graph.get_edge_data(path[i], path[i+1])\n",
    "            time += edge_data['adjusted_time']\n",
    "        alternatives.append((path, time))\n",
    "        if len(alternatives) >= max_alternatives:\n",
    "            break\n",
    "\n",
    "    return alternatives\n",
    "\n",
    "# Example usage\n",
    "alternatives = suggest_alternative_routes(G, predicted_traffic, 'A', 'D')\n",
    "for idx, (route, time) in enumerate(alternatives, 1):\n",
    "    print(f\"Option {idx}: Route: {route}, Estimated Time: {time:.2f} minutes\")\n"
   ]
  },
  {
   "cell_type": "code",
   "execution_count": 14,
   "id": "de916405-80e2-46e1-aaf2-68fa8d39f2e5",
   "metadata": {},
   "outputs": [
    {
     "name": "stdout",
     "output_type": "stream",
     "text": [
      "\n",
      "Available route options:\n",
      "1. Route: ['A', 'B', 'D'], Estimated Time: 45.38 minutes\n",
      "2. Route: ['A', 'C', 'D'], Estimated Time: 59.92 minutes\n",
      "3. Route: ['A', 'B', 'C', 'D'], Estimated Time: 60.83 minutes\n"
     ]
    },
    {
     "name": "stdin",
     "output_type": "stream",
     "text": [
      "Select route option (1-3):  3\n"
     ]
    },
    {
     "name": "stdout",
     "output_type": "stream",
     "text": [
      "\n",
      "You selected route: ['A', 'B', 'C', 'D'] with estimated travel time 60.83 minutes\n"
     ]
    }
   ],
   "source": [
    "def choose_route_option(alternatives):\n",
    "    print(\"\\nAvailable route options:\")\n",
    "    for idx, (route, time) in enumerate(alternatives, 1):\n",
    "        print(f\"{idx}. Route: {route}, Estimated Time: {time:.2f} minutes\")\n",
    "\n",
    "    while True:\n",
    "        choice = input(f\"Select route option (1-{len(alternatives)}): \").strip()\n",
    "        if choice.isdigit() and 1 <= int(choice) <= len(alternatives):\n",
    "            return alternatives[int(choice) - 1]\n",
    "        else:\n",
    "            print(\"Invalid choice. Please try again.\")\n",
    "\n",
    "# Assuming alternatives variable from previous step\n",
    "selected_route, selected_time = choose_route_option(alternatives)\n",
    "print(f\"\\nYou selected route: {selected_route} with estimated travel time {selected_time:.2f} minutes\")\n"
   ]
  },
  {
   "cell_type": "code",
   "execution_count": null,
   "id": "09019bbb-913c-4b84-a873-9921a35b7889",
   "metadata": {},
   "outputs": [],
   "source": []
  }
 ],
 "metadata": {
  "kernelspec": {
   "display_name": "Python 3 (ipykernel)",
   "language": "python",
   "name": "python3"
  },
  "language_info": {
   "codemirror_mode": {
    "name": "ipython",
    "version": 3
   },
   "file_extension": ".py",
   "mimetype": "text/x-python",
   "name": "python",
   "nbconvert_exporter": "python",
   "pygments_lexer": "ipython3",
   "version": "3.12.4"
  }
 },
 "nbformat": 4,
 "nbformat_minor": 5
}
